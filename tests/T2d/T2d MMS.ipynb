{
 "metadata": {
  "name": "",
  "signature": "sha256:c196e1581a4d8f454967f55740e78c3715f162877a8d2e403d30b89ca15f521b"
 },
 "nbformat": 3,
 "nbformat_minor": 0,
 "worksheets": [
  {
   "cells": [
    {
     "cell_type": "code",
     "collapsed": false,
     "input": [
      "#\n",
      "# Incompact3D Test T2d\n",
      "# Method of Manufactured Solutions\n",
      "#"
     ],
     "language": "python",
     "metadata": {},
     "outputs": [],
     "prompt_number": 1
    },
    {
     "cell_type": "code",
     "collapsed": false,
     "input": [
      "import matplotlib\n",
      "import sympy\n",
      "from sympy import init_printing, cos, sin\n",
      "init_printing()"
     ],
     "language": "python",
     "metadata": {},
     "outputs": [],
     "prompt_number": 1
    },
    {
     "cell_type": "code",
     "collapsed": false,
     "input": [
      "x = sympy.symbols('x')\n",
      "y = sympy.symbols('y')\n",
      "z = sympy.symbols('z')\n",
      "\n",
      "lx = sympy.symbols('l_x')\n",
      "ly = sympy.symbols('l_y')\n",
      "lz = sympy.symbols('l_z')\n",
      "\n",
      "X = (2 * sympy.pi) * (x / lx)\n",
      "Y = (2 * sympy.pi) * (y / ly)\n",
      "Z = (2 * sympy.pi) * (z / lz)"
     ],
     "language": "python",
     "metadata": {},
     "outputs": [],
     "prompt_number": 2
    },
    {
     "cell_type": "code",
     "collapsed": false,
     "input": [
      "# Define velocity field\n",
      "u = (lx / (2 * sympy.pi)) * sin(X) * cos(Y) * cos(Z)\n",
      "v = (ly / (2 * sympy.pi)) * cos(X) * sin(Y) * cos(Z)\n",
      "w = -2 * (lz / (2 * sympy.pi)) * cos(X) * cos(Y) * sin(Z)\n",
      "\n",
      "# Check it is divergence free\n",
      "(sympy.diff(u, x) + sympy.diff(v, y) + sympy.diff(w, z)).simplify()"
     ],
     "language": "python",
     "metadata": {},
     "outputs": [
      {
       "latex": [
        "$$0$$"
       ],
       "metadata": {},
       "output_type": "pyout",
       "png": "[encoded data removed]",
       "prompt_number": 3,
       "text": [
        "0"
       ]
      }
     ],
     "prompt_number": 3
    },
    {
     "cell_type": "code",
     "collapsed": false,
     "input": [
      "# Define density field\n",
      "rho = 2 + sin(X) * sin(Y) * sin(Z)\n",
      "\n",
      "# Check u dot grad rho = 0\n",
      "drdx = sympy.diff(rho, x)\n",
      "drdy = sympy.diff(rho, y)\n",
      "drdz = sympy.diff(rho, z)\n",
      "ugr = u * drdx\n",
      "vgr = v * drdy\n",
      "wgr = w * drdz\n",
      "ugr + vgr + wgr"
     ],
     "language": "python",
     "metadata": {},
     "outputs": [
      {
       "latex": [
        "$$0$$"
       ],
       "metadata": {},
       "output_type": "pyout",
       "png": "[encoded data removed]",
       "prompt_number": 4,
       "text": [
        "0"
       ]
      }
     ],
     "prompt_number": 4
    },
    {
     "cell_type": "code",
     "collapsed": false,
     "input": [
      "# Compute MMS source term\n",
      "\n",
      "Re = sympy.symbols('Re')\n",
      "Pr = sympy.symbols('Pr')\n",
      "\n",
      "irho = 1 / rho\n",
      "dirdx = sympy.diff(irho, x)\n",
      "dirdy = sympy.diff(irho, y)\n",
      "dirdz = sympy.diff(irho, z)\n",
      "\n",
      "d2irdx2 = sympy.diff(dirdx, x)\n",
      "d2irdy2 = sympy.diff(dirdy, y)\n",
      "d2irdz2 = sympy.diff(dirdz, z)"
     ],
     "language": "python",
     "metadata": {},
     "outputs": [],
     "prompt_number": 5
    },
    {
     "cell_type": "code",
     "collapsed": false,
     "input": [
      "SrhoX = d2irdx2.simplify()\n",
      "SrhoX"
     ],
     "language": "python",
     "metadata": {},
     "outputs": [
      {
       "latex": [
        "$$\\frac{4 \\pi^{2} \\sin{\\left (\\frac{2 \\pi}{l_{y}} y \\right )} \\sin{\\left (\\frac{2 \\pi}{l_{z}} z \\right )}}{l_{x}^{2} \\left(\\sin{\\left (\\frac{2 \\pi}{l_{x}} x \\right )} \\sin{\\left (\\frac{2 \\pi}{l_{y}} y \\right )} \\sin{\\left (\\frac{2 \\pi}{l_{z}} z \\right )} + 2\\right)^{3}} \\left(\\left(\\sin{\\left (\\frac{2 \\pi}{l_{x}} x \\right )} \\sin{\\left (\\frac{2 \\pi}{l_{y}} y \\right )} \\sin{\\left (\\frac{2 \\pi}{l_{z}} z \\right )} + 2\\right) \\sin{\\left (\\frac{2 \\pi}{l_{x}} x \\right )} + 2 \\sin{\\left (\\frac{2 \\pi}{l_{y}} y \\right )} \\sin{\\left (\\frac{2 \\pi}{l_{z}} z \\right )} \\cos^{2}{\\left (\\frac{2 \\pi}{l_{x}} x \\right )}\\right)$$"
       ],
       "metadata": {},
       "output_type": "pyout",
       "png": "[encoded data removed]",
       "prompt_number": 6,
       "text": [
        "   2 \u239b\u239b   \u239b2\u22c5\u03c0\u22c5x\u239e    \u239b2\u22c5\u03c0\u22c5y\u239e    \u239b2\u22c5\u03c0\u22c5z\u239e    \u239e    \u239b2\u22c5\u03c0\u22c5x\u239e        \u239b2\u22c5\u03c0\u22c5y\u239e    \u239b2\u22c5\u03c0\n",
        "4\u22c5\u03c0 \u22c5\u239c\u239csin\u239c\u2500\u2500\u2500\u2500\u2500\u239f\u22c5sin\u239c\u2500\u2500\u2500\u2500\u2500\u239f\u22c5sin\u239c\u2500\u2500\u2500\u2500\u2500\u239f + 2\u239f\u22c5sin\u239c\u2500\u2500\u2500\u2500\u2500\u239f + 2\u22c5sin\u239c\u2500\u2500\u2500\u2500\u2500\u239f\u22c5sin\u239c\u2500\u2500\u2500\n",
        "     \u239d\u239d   \u239d  l\u2093 \u23a0    \u239d l_y \u23a0    \u239d l_z \u23a0    \u23a0    \u239d  l\u2093 \u23a0        \u239d l_y \u23a0    \u239d l_\n",
        "\u2500\u2500\u2500\u2500\u2500\u2500\u2500\u2500\u2500\u2500\u2500\u2500\u2500\u2500\u2500\u2500\u2500\u2500\u2500\u2500\u2500\u2500\u2500\u2500\u2500\u2500\u2500\u2500\u2500\u2500\u2500\u2500\u2500\u2500\u2500\u2500\u2500\u2500\u2500\u2500\u2500\u2500\u2500\u2500\u2500\u2500\u2500\u2500\u2500\u2500\u2500\u2500\u2500\u2500\u2500\u2500\u2500\u2500\u2500\u2500\u2500\u2500\u2500\u2500\u2500\u2500\u2500\u2500\u2500\u2500\u2500\u2500\u2500\u2500\u2500\u2500\u2500\u2500\n",
        "                                                                              \n",
        "                                      2 \u239b   \u239b2\u22c5\u03c0\u22c5x\u239e    \u239b2\u22c5\u03c0\u22c5y\u239e    \u239b2\u22c5\u03c0\u22c5z\u239e    \u239e\n",
        "                                    l\u2093 \u22c5\u239csin\u239c\u2500\u2500\u2500\u2500\u2500\u239f\u22c5sin\u239c\u2500\u2500\u2500\u2500\u2500\u239f\u22c5sin\u239c\u2500\u2500\u2500\u2500\u2500\u239f + 2\u239f\n",
        "                                        \u239d   \u239d  l\u2093 \u23a0    \u239d l_y \u23a0    \u239d l_z \u23a0    \u23a0\n",
        "\n",
        "\u22c5z\u239e    2\u239b2\u22c5\u03c0\u22c5x\u239e\u239e    \u239b2\u22c5\u03c0\u22c5y\u239e    \u239b2\u22c5\u03c0\u22c5z\u239e\n",
        "\u2500\u2500\u239f\u22c5cos \u239c\u2500\u2500\u2500\u2500\u2500\u239f\u239f\u22c5sin\u239c\u2500\u2500\u2500\u2500\u2500\u239f\u22c5sin\u239c\u2500\u2500\u2500\u2500\u2500\u239f\n",
        "z \u23a0     \u239d  l\u2093 \u23a0\u23a0    \u239d l_y \u23a0    \u239d l_z \u23a0\n",
        "\u2500\u2500\u2500\u2500\u2500\u2500\u2500\u2500\u2500\u2500\u2500\u2500\u2500\u2500\u2500\u2500\u2500\u2500\u2500\u2500\u2500\u2500\u2500\u2500\u2500\u2500\u2500\u2500\u2500\u2500\u2500\u2500\u2500\u2500\u2500\u2500\u2500\u2500\n",
        "3                                     \n",
        "                                      \n",
        "                                      \n",
        "                                      "
       ]
      }
     ],
     "prompt_number": 6
    },
    {
     "cell_type": "code",
     "collapsed": false,
     "input": [
      "SrhoY = d2irdy2.simplify()\n",
      "SrhoY"
     ],
     "language": "python",
     "metadata": {},
     "outputs": [
      {
       "latex": [
        "$$\\frac{4 \\pi^{2} \\sin{\\left (\\frac{2 \\pi}{l_{x}} x \\right )} \\sin{\\left (\\frac{2 \\pi}{l_{z}} z \\right )}}{l_{y}^{2} \\left(\\sin{\\left (\\frac{2 \\pi}{l_{x}} x \\right )} \\sin{\\left (\\frac{2 \\pi}{l_{y}} y \\right )} \\sin{\\left (\\frac{2 \\pi}{l_{z}} z \\right )} + 2\\right)^{3}} \\left(\\left(\\sin{\\left (\\frac{2 \\pi}{l_{x}} x \\right )} \\sin{\\left (\\frac{2 \\pi}{l_{y}} y \\right )} \\sin{\\left (\\frac{2 \\pi}{l_{z}} z \\right )} + 2\\right) \\sin{\\left (\\frac{2 \\pi}{l_{y}} y \\right )} + 2 \\sin{\\left (\\frac{2 \\pi}{l_{x}} x \\right )} \\sin{\\left (\\frac{2 \\pi}{l_{z}} z \\right )} \\cos^{2}{\\left (\\frac{2 \\pi}{l_{y}} y \\right )}\\right)$$"
       ],
       "metadata": {},
       "output_type": "pyout",
       "png": "[encoded data removed]",
       "prompt_number": 7,
       "text": [
        "   2 \u239b\u239b   \u239b2\u22c5\u03c0\u22c5x\u239e    \u239b2\u22c5\u03c0\u22c5y\u239e    \u239b2\u22c5\u03c0\u22c5z\u239e    \u239e    \u239b2\u22c5\u03c0\u22c5y\u239e        \u239b2\u22c5\u03c0\u22c5x\u239e    \u239b2\u22c5\u03c0\n",
        "4\u22c5\u03c0 \u22c5\u239c\u239csin\u239c\u2500\u2500\u2500\u2500\u2500\u239f\u22c5sin\u239c\u2500\u2500\u2500\u2500\u2500\u239f\u22c5sin\u239c\u2500\u2500\u2500\u2500\u2500\u239f + 2\u239f\u22c5sin\u239c\u2500\u2500\u2500\u2500\u2500\u239f + 2\u22c5sin\u239c\u2500\u2500\u2500\u2500\u2500\u239f\u22c5sin\u239c\u2500\u2500\u2500\n",
        "     \u239d\u239d   \u239d  l\u2093 \u23a0    \u239d l_y \u23a0    \u239d l_z \u23a0    \u23a0    \u239d l_y \u23a0        \u239d  l\u2093 \u23a0    \u239d l_\n",
        "\u2500\u2500\u2500\u2500\u2500\u2500\u2500\u2500\u2500\u2500\u2500\u2500\u2500\u2500\u2500\u2500\u2500\u2500\u2500\u2500\u2500\u2500\u2500\u2500\u2500\u2500\u2500\u2500\u2500\u2500\u2500\u2500\u2500\u2500\u2500\u2500\u2500\u2500\u2500\u2500\u2500\u2500\u2500\u2500\u2500\u2500\u2500\u2500\u2500\u2500\u2500\u2500\u2500\u2500\u2500\u2500\u2500\u2500\u2500\u2500\u2500\u2500\u2500\u2500\u2500\u2500\u2500\u2500\u2500\u2500\u2500\u2500\u2500\u2500\u2500\u2500\u2500\u2500\n",
        "                                                                              \n",
        "                                       2 \u239b   \u239b2\u22c5\u03c0\u22c5x\u239e    \u239b2\u22c5\u03c0\u22c5y\u239e    \u239b2\u22c5\u03c0\u22c5z\u239e    \n",
        "                                    l_y \u22c5\u239csin\u239c\u2500\u2500\u2500\u2500\u2500\u239f\u22c5sin\u239c\u2500\u2500\u2500\u2500\u2500\u239f\u22c5sin\u239c\u2500\u2500\u2500\u2500\u2500\u239f + 2\n",
        "                                         \u239d   \u239d  l\u2093 \u23a0    \u239d l_y \u23a0    \u239d l_z \u23a0    \n",
        "\n",
        "\u22c5z\u239e    2\u239b2\u22c5\u03c0\u22c5y\u239e\u239e    \u239b2\u22c5\u03c0\u22c5x\u239e    \u239b2\u22c5\u03c0\u22c5z\u239e\n",
        "\u2500\u2500\u239f\u22c5cos \u239c\u2500\u2500\u2500\u2500\u2500\u239f\u239f\u22c5sin\u239c\u2500\u2500\u2500\u2500\u2500\u239f\u22c5sin\u239c\u2500\u2500\u2500\u2500\u2500\u239f\n",
        "z \u23a0     \u239d l_y \u23a0\u23a0    \u239d  l\u2093 \u23a0    \u239d l_z \u23a0\n",
        "\u2500\u2500\u2500\u2500\u2500\u2500\u2500\u2500\u2500\u2500\u2500\u2500\u2500\u2500\u2500\u2500\u2500\u2500\u2500\u2500\u2500\u2500\u2500\u2500\u2500\u2500\u2500\u2500\u2500\u2500\u2500\u2500\u2500\u2500\u2500\u2500\u2500\u2500\n",
        " 3                                    \n",
        "\u239e                                     \n",
        "\u239f                                     \n",
        "\u23a0                                     "
       ]
      }
     ],
     "prompt_number": 7
    },
    {
     "cell_type": "code",
     "collapsed": false,
     "input": [
      "SrhoZ = d2irdz2.simplify()\n",
      "SrhoZ"
     ],
     "language": "python",
     "metadata": {},
     "outputs": [
      {
       "latex": [
        "$$\\frac{4 \\pi^{2} \\sin{\\left (\\frac{2 \\pi}{l_{x}} x \\right )} \\sin{\\left (\\frac{2 \\pi}{l_{y}} y \\right )}}{l_{z}^{2} \\left(\\sin{\\left (\\frac{2 \\pi}{l_{x}} x \\right )} \\sin{\\left (\\frac{2 \\pi}{l_{y}} y \\right )} \\sin{\\left (\\frac{2 \\pi}{l_{z}} z \\right )} + 2\\right)^{3}} \\left(\\left(\\sin{\\left (\\frac{2 \\pi}{l_{x}} x \\right )} \\sin{\\left (\\frac{2 \\pi}{l_{y}} y \\right )} \\sin{\\left (\\frac{2 \\pi}{l_{z}} z \\right )} + 2\\right) \\sin{\\left (\\frac{2 \\pi}{l_{z}} z \\right )} + 2 \\sin{\\left (\\frac{2 \\pi}{l_{x}} x \\right )} \\sin{\\left (\\frac{2 \\pi}{l_{y}} y \\right )} \\cos^{2}{\\left (\\frac{2 \\pi}{l_{z}} z \\right )}\\right)$$"
       ],
       "metadata": {},
       "output_type": "pyout",
       "png": "[encoded data removed]",
       "prompt_number": 8,
       "text": [
        "   2 \u239b\u239b   \u239b2\u22c5\u03c0\u22c5x\u239e    \u239b2\u22c5\u03c0\u22c5y\u239e    \u239b2\u22c5\u03c0\u22c5z\u239e    \u239e    \u239b2\u22c5\u03c0\u22c5z\u239e        \u239b2\u22c5\u03c0\u22c5x\u239e    \u239b2\u22c5\u03c0\n",
        "4\u22c5\u03c0 \u22c5\u239c\u239csin\u239c\u2500\u2500\u2500\u2500\u2500\u239f\u22c5sin\u239c\u2500\u2500\u2500\u2500\u2500\u239f\u22c5sin\u239c\u2500\u2500\u2500\u2500\u2500\u239f + 2\u239f\u22c5sin\u239c\u2500\u2500\u2500\u2500\u2500\u239f + 2\u22c5sin\u239c\u2500\u2500\u2500\u2500\u2500\u239f\u22c5sin\u239c\u2500\u2500\u2500\n",
        "     \u239d\u239d   \u239d  l\u2093 \u23a0    \u239d l_y \u23a0    \u239d l_z \u23a0    \u23a0    \u239d l_z \u23a0        \u239d  l\u2093 \u23a0    \u239d l_\n",
        "\u2500\u2500\u2500\u2500\u2500\u2500\u2500\u2500\u2500\u2500\u2500\u2500\u2500\u2500\u2500\u2500\u2500\u2500\u2500\u2500\u2500\u2500\u2500\u2500\u2500\u2500\u2500\u2500\u2500\u2500\u2500\u2500\u2500\u2500\u2500\u2500\u2500\u2500\u2500\u2500\u2500\u2500\u2500\u2500\u2500\u2500\u2500\u2500\u2500\u2500\u2500\u2500\u2500\u2500\u2500\u2500\u2500\u2500\u2500\u2500\u2500\u2500\u2500\u2500\u2500\u2500\u2500\u2500\u2500\u2500\u2500\u2500\u2500\u2500\u2500\u2500\u2500\u2500\n",
        "                                                                              \n",
        "                                       2 \u239b   \u239b2\u22c5\u03c0\u22c5x\u239e    \u239b2\u22c5\u03c0\u22c5y\u239e    \u239b2\u22c5\u03c0\u22c5z\u239e    \n",
        "                                    l_z \u22c5\u239csin\u239c\u2500\u2500\u2500\u2500\u2500\u239f\u22c5sin\u239c\u2500\u2500\u2500\u2500\u2500\u239f\u22c5sin\u239c\u2500\u2500\u2500\u2500\u2500\u239f + 2\n",
        "                                         \u239d   \u239d  l\u2093 \u23a0    \u239d l_y \u23a0    \u239d l_z \u23a0    \n",
        "\n",
        "\u22c5y\u239e    2\u239b2\u22c5\u03c0\u22c5z\u239e\u239e    \u239b2\u22c5\u03c0\u22c5x\u239e    \u239b2\u22c5\u03c0\u22c5y\u239e\n",
        "\u2500\u2500\u239f\u22c5cos \u239c\u2500\u2500\u2500\u2500\u2500\u239f\u239f\u22c5sin\u239c\u2500\u2500\u2500\u2500\u2500\u239f\u22c5sin\u239c\u2500\u2500\u2500\u2500\u2500\u239f\n",
        "y \u23a0     \u239d l_z \u23a0\u23a0    \u239d  l\u2093 \u23a0    \u239d l_y \u23a0\n",
        "\u2500\u2500\u2500\u2500\u2500\u2500\u2500\u2500\u2500\u2500\u2500\u2500\u2500\u2500\u2500\u2500\u2500\u2500\u2500\u2500\u2500\u2500\u2500\u2500\u2500\u2500\u2500\u2500\u2500\u2500\u2500\u2500\u2500\u2500\u2500\u2500\u2500\u2500\n",
        " 3                                    \n",
        "\u239e                                     \n",
        "\u239f                                     \n",
        "\u23a0                                     "
       ]
      }
     ],
     "prompt_number": 8
    },
    {
     "cell_type": "code",
     "collapsed": false,
     "input": [
      "S = (rho / (Re * Pr)) * (SrhoX + SrhoY + SrhoZ)\n",
      "S.simplify()"
     ],
     "language": "python",
     "metadata": {},
     "outputs": [
      {
       "latex": [
        "$$\\frac{4 \\pi^{2}}{Pr Re l_{x}^{2} l_{y}^{2} l_{z}^{2} \\left(\\sin{\\left (\\frac{2 \\pi}{l_{x}} x \\right )} \\sin{\\left (\\frac{2 \\pi}{l_{y}} y \\right )} \\sin{\\left (\\frac{2 \\pi}{l_{z}} z \\right )} + 2\\right)^{2}} \\left(l_{x}^{2} l_{y}^{2} \\left(\\left(\\sin{\\left (\\frac{2 \\pi}{l_{x}} x \\right )} \\sin{\\left (\\frac{2 \\pi}{l_{y}} y \\right )} \\sin{\\left (\\frac{2 \\pi}{l_{z}} z \\right )} + 2\\right) \\sin{\\left (\\frac{2 \\pi}{l_{z}} z \\right )} + 2 \\sin{\\left (\\frac{2 \\pi}{l_{x}} x \\right )} \\sin{\\left (\\frac{2 \\pi}{l_{y}} y \\right )} \\cos^{2}{\\left (\\frac{2 \\pi}{l_{z}} z \\right )}\\right) \\sin{\\left (\\frac{2 \\pi}{l_{x}} x \\right )} \\sin{\\left (\\frac{2 \\pi}{l_{y}} y \\right )} + l_{x}^{2} l_{z}^{2} \\left(\\left(\\sin{\\left (\\frac{2 \\pi}{l_{x}} x \\right )} \\sin{\\left (\\frac{2 \\pi}{l_{y}} y \\right )} \\sin{\\left (\\frac{2 \\pi}{l_{z}} z \\right )} + 2\\right) \\sin{\\left (\\frac{2 \\pi}{l_{y}} y \\right )} + 2 \\sin{\\left (\\frac{2 \\pi}{l_{x}} x \\right )} \\sin{\\left (\\frac{2 \\pi}{l_{z}} z \\right )} \\cos^{2}{\\left (\\frac{2 \\pi}{l_{y}} y \\right )}\\right) \\sin{\\left (\\frac{2 \\pi}{l_{x}} x \\right )} \\sin{\\left (\\frac{2 \\pi}{l_{z}} z \\right )} + l_{y}^{2} l_{z}^{2} \\left(\\left(\\sin{\\left (\\frac{2 \\pi}{l_{x}} x \\right )} \\sin{\\left (\\frac{2 \\pi}{l_{y}} y \\right )} \\sin{\\left (\\frac{2 \\pi}{l_{z}} z \\right )} + 2\\right) \\sin{\\left (\\frac{2 \\pi}{l_{x}} x \\right )} + 2 \\sin{\\left (\\frac{2 \\pi}{l_{y}} y \\right )} \\sin{\\left (\\frac{2 \\pi}{l_{z}} z \\right )} \\cos^{2}{\\left (\\frac{2 \\pi}{l_{x}} x \\right )}\\right) \\sin{\\left (\\frac{2 \\pi}{l_{y}} y \\right )} \\sin{\\left (\\frac{2 \\pi}{l_{z}} z \\right )}\\right)$$"
       ],
       "metadata": {},
       "output_type": "pyout",
       "png": "[encoded data removed]",
       "prompt_number": 35,
       "text": [
        "   2 \u239b  2    2 \u239b\u239b   \u239b2\u22c5\u03c0\u22c5x\u239e    \u239b2\u22c5\u03c0\u22c5y\u239e    \u239b2\u22c5\u03c0\u22c5z\u239e    \u239e    \u239b2\u22c5\u03c0\u22c5z\u239e        \u239b2\u22c5\u03c0\u22c5\n",
        "4\u22c5\u03c0 \u22c5\u239cl\u2093 \u22c5l_y \u22c5\u239c\u239csin\u239c\u2500\u2500\u2500\u2500\u2500\u239f\u22c5sin\u239c\u2500\u2500\u2500\u2500\u2500\u239f\u22c5sin\u239c\u2500\u2500\u2500\u2500\u2500\u239f + 2\u239f\u22c5sin\u239c\u2500\u2500\u2500\u2500\u2500\u239f + 2\u22c5sin\u239c\u2500\u2500\u2500\u2500\n",
        "     \u239d         \u239d\u239d   \u239d  l\u2093 \u23a0    \u239d l_y \u23a0    \u239d l_z \u23a0    \u23a0    \u239d l_z \u23a0        \u239d  l\u2093\n",
        "\u2500\u2500\u2500\u2500\u2500\u2500\u2500\u2500\u2500\u2500\u2500\u2500\u2500\u2500\u2500\u2500\u2500\u2500\u2500\u2500\u2500\u2500\u2500\u2500\u2500\u2500\u2500\u2500\u2500\u2500\u2500\u2500\u2500\u2500\u2500\u2500\u2500\u2500\u2500\u2500\u2500\u2500\u2500\u2500\u2500\u2500\u2500\u2500\u2500\u2500\u2500\u2500\u2500\u2500\u2500\u2500\u2500\u2500\u2500\u2500\u2500\u2500\u2500\u2500\u2500\u2500\u2500\u2500\u2500\u2500\u2500\u2500\u2500\u2500\u2500\u2500\u2500\u2500\n",
        "                                                                              \n",
        "                                                                              \n",
        "                                                                              \n",
        "                                                                              \n",
        "\n",
        "x\u239e    \u239b2\u22c5\u03c0\u22c5y\u239e    2\u239b2\u22c5\u03c0\u22c5z\u239e\u239e    \u239b2\u22c5\u03c0\u22c5x\u239e    \u239b2\u22c5\u03c0\u22c5y\u239e     2    2 \u239b\u239b   \u239b2\u22c5\u03c0\u22c5x\u239e    \u239b2\n",
        "\u2500\u239f\u22c5sin\u239c\u2500\u2500\u2500\u2500\u2500\u239f\u22c5cos \u239c\u2500\u2500\u2500\u2500\u2500\u239f\u239f\u22c5sin\u239c\u2500\u2500\u2500\u2500\u2500\u239f\u22c5sin\u239c\u2500\u2500\u2500\u2500\u2500\u239f + l\u2093 \u22c5l_z \u22c5\u239c\u239csin\u239c\u2500\u2500\u2500\u2500\u2500\u239f\u22c5sin\u239c\u2500\n",
        " \u23a0    \u239d l_y \u23a0     \u239d l_z \u23a0\u23a0    \u239d  l\u2093 \u23a0    \u239d l_y \u23a0            \u239d\u239d   \u239d  l\u2093 \u23a0    \u239d \n",
        "\u2500\u2500\u2500\u2500\u2500\u2500\u2500\u2500\u2500\u2500\u2500\u2500\u2500\u2500\u2500\u2500\u2500\u2500\u2500\u2500\u2500\u2500\u2500\u2500\u2500\u2500\u2500\u2500\u2500\u2500\u2500\u2500\u2500\u2500\u2500\u2500\u2500\u2500\u2500\u2500\u2500\u2500\u2500\u2500\u2500\u2500\u2500\u2500\u2500\u2500\u2500\u2500\u2500\u2500\u2500\u2500\u2500\u2500\u2500\u2500\u2500\u2500\u2500\u2500\u2500\u2500\u2500\u2500\u2500\u2500\u2500\u2500\u2500\u2500\u2500\u2500\u2500\u2500\n",
        "                                                                              \n",
        "                                                                              \n",
        "                                                                              \n",
        "                                                                              \n",
        "\n",
        "\u22c5\u03c0\u22c5y\u239e    \u239b2\u22c5\u03c0\u22c5z\u239e    \u239e    \u239b2\u22c5\u03c0\u22c5y\u239e        \u239b2\u22c5\u03c0\u22c5x\u239e    \u239b2\u22c5\u03c0\u22c5z\u239e    2\u239b2\u22c5\u03c0\u22c5y\u239e\u239e    \u239b2\u22c5\n",
        "\u2500\u2500\u2500\u2500\u239f\u22c5sin\u239c\u2500\u2500\u2500\u2500\u2500\u239f + 2\u239f\u22c5sin\u239c\u2500\u2500\u2500\u2500\u2500\u239f + 2\u22c5sin\u239c\u2500\u2500\u2500\u2500\u2500\u239f\u22c5sin\u239c\u2500\u2500\u2500\u2500\u2500\u239f\u22c5cos \u239c\u2500\u2500\u2500\u2500\u2500\u239f\u239f\u22c5sin\u239c\u2500\u2500\n",
        "l_y \u23a0    \u239d l_z \u23a0    \u23a0    \u239d l_y \u23a0        \u239d  l\u2093 \u23a0    \u239d l_z \u23a0     \u239d l_y \u23a0\u23a0    \u239d  \n",
        "\u2500\u2500\u2500\u2500\u2500\u2500\u2500\u2500\u2500\u2500\u2500\u2500\u2500\u2500\u2500\u2500\u2500\u2500\u2500\u2500\u2500\u2500\u2500\u2500\u2500\u2500\u2500\u2500\u2500\u2500\u2500\u2500\u2500\u2500\u2500\u2500\u2500\u2500\u2500\u2500\u2500\u2500\u2500\u2500\u2500\u2500\u2500\u2500\u2500\u2500\u2500\u2500\u2500\u2500\u2500\u2500\u2500\u2500\u2500\u2500\u2500\u2500\u2500\u2500\u2500\u2500\u2500\u2500\u2500\u2500\u2500\u2500\u2500\u2500\u2500\u2500\u2500\u2500\n",
        "                                                           2                  \n",
        "         2    2    2 \u239b   \u239b2\u22c5\u03c0\u22c5x\u239e    \u239b2\u22c5\u03c0\u22c5y\u239e    \u239b2\u22c5\u03c0\u22c5z\u239e    \u239e                   \n",
        " Pr\u22c5Re\u22c5l\u2093 \u22c5l_y \u22c5l_z \u22c5\u239csin\u239c\u2500\u2500\u2500\u2500\u2500\u239f\u22c5sin\u239c\u2500\u2500\u2500\u2500\u2500\u239f\u22c5sin\u239c\u2500\u2500\u2500\u2500\u2500\u239f + 2\u239f                   \n",
        "                     \u239d   \u239d  l\u2093 \u23a0    \u239d l_y \u23a0    \u239d l_z \u23a0    \u23a0                   \n",
        "\n",
        "\u03c0\u22c5x\u239e    \u239b2\u22c5\u03c0\u22c5z\u239e      2    2 \u239b\u239b   \u239b2\u22c5\u03c0\u22c5x\u239e    \u239b2\u22c5\u03c0\u22c5y\u239e    \u239b2\u22c5\u03c0\u22c5z\u239e    \u239e    \u239b2\u22c5\u03c0\u22c5x\u239e\n",
        "\u2500\u2500\u2500\u239f\u22c5sin\u239c\u2500\u2500\u2500\u2500\u2500\u239f + l_y \u22c5l_z \u22c5\u239c\u239csin\u239c\u2500\u2500\u2500\u2500\u2500\u239f\u22c5sin\u239c\u2500\u2500\u2500\u2500\u2500\u239f\u22c5sin\u239c\u2500\u2500\u2500\u2500\u2500\u239f + 2\u239f\u22c5sin\u239c\u2500\u2500\u2500\u2500\u2500\u239f\n",
        "l\u2093 \u23a0    \u239d l_z \u23a0             \u239d\u239d   \u239d  l\u2093 \u23a0    \u239d l_y \u23a0    \u239d l_z \u23a0    \u23a0    \u239d  l\u2093 \u23a0\n",
        "\u2500\u2500\u2500\u2500\u2500\u2500\u2500\u2500\u2500\u2500\u2500\u2500\u2500\u2500\u2500\u2500\u2500\u2500\u2500\u2500\u2500\u2500\u2500\u2500\u2500\u2500\u2500\u2500\u2500\u2500\u2500\u2500\u2500\u2500\u2500\u2500\u2500\u2500\u2500\u2500\u2500\u2500\u2500\u2500\u2500\u2500\u2500\u2500\u2500\u2500\u2500\u2500\u2500\u2500\u2500\u2500\u2500\u2500\u2500\u2500\u2500\u2500\u2500\u2500\u2500\u2500\u2500\u2500\u2500\u2500\u2500\u2500\u2500\u2500\u2500\u2500\u2500\u2500\n",
        "                                                                              \n",
        "                                                                              \n",
        "                                                                              \n",
        "                                                                              \n",
        "\n",
        "        \u239b2\u22c5\u03c0\u22c5y\u239e    \u239b2\u22c5\u03c0\u22c5z\u239e    2\u239b2\u22c5\u03c0\u22c5x\u239e\u239e    \u239b2\u22c5\u03c0\u22c5y\u239e    \u239b2\u22c5\u03c0\u22c5z\u239e\u239e\n",
        " + 2\u22c5sin\u239c\u2500\u2500\u2500\u2500\u2500\u239f\u22c5sin\u239c\u2500\u2500\u2500\u2500\u2500\u239f\u22c5cos \u239c\u2500\u2500\u2500\u2500\u2500\u239f\u239f\u22c5sin\u239c\u2500\u2500\u2500\u2500\u2500\u239f\u22c5sin\u239c\u2500\u2500\u2500\u2500\u2500\u239f\u239f\n",
        "        \u239d l_y \u23a0    \u239d l_z \u23a0     \u239d  l\u2093 \u23a0\u23a0    \u239d l_y \u23a0    \u239d l_z \u23a0\u23a0\n",
        "\u2500\u2500\u2500\u2500\u2500\u2500\u2500\u2500\u2500\u2500\u2500\u2500\u2500\u2500\u2500\u2500\u2500\u2500\u2500\u2500\u2500\u2500\u2500\u2500\u2500\u2500\u2500\u2500\u2500\u2500\u2500\u2500\u2500\u2500\u2500\u2500\u2500\u2500\u2500\u2500\u2500\u2500\u2500\u2500\u2500\u2500\u2500\u2500\u2500\u2500\u2500\u2500\u2500\u2500\u2500\u2500\u2500\u2500\u2500\u2500\u2500\u2500\n",
        "                                                              \n",
        "                                                              \n",
        "                                                              \n",
        "                                                              "
       ]
      }
     ],
     "prompt_number": 35
    },
    {
     "cell_type": "code",
     "collapsed": false,
     "input": [
      "# Compute dt to give maximum CFL = 0.1 on 128^3 grid\n",
      "# Also time to run through domain 10 times\n",
      "\n",
      "l = 1.0\n",
      "n = 128\n",
      "PI = 3.14\n",
      "CFL = 0.1\n",
      "\n",
      "U = 2 * (l / (2 * PI))\n",
      "dx = l / n\n",
      "dt = CFL * dx / U\n",
      "\n",
      "u = 1 * (l / (2 * PI)) # Not really minimum velocity (that would be 0)\n",
      "t_thru = l / u\n",
      "t_end = 10 * t_thru\n",
      "nsteps = t_end / dt\n",
      "\n",
      "print \"dt = \", dt\n",
      "print \"t_end = \", t_end, \" nsteps = \", nsteps\n"
     ],
     "language": "python",
     "metadata": {},
     "outputs": [
      {
       "output_type": "stream",
       "stream": "stdout",
       "text": [
        "dt =  0.002453125\n",
        "t_end =  62.8  nsteps =  25600.0\n"
       ]
      }
     ],
     "prompt_number": 14
    },
    {
     "cell_type": "code",
     "collapsed": false,
     "input": [
      "# Compute \"true\" CFL\n",
      "dt = 0.002\n",
      "U * dt / dx"
     ],
     "language": "python",
     "metadata": {},
     "outputs": [
      {
       "metadata": {},
       "output_type": "pyout",
       "prompt_number": 15,
       "text": [
        "0.08152866242038216"
       ]
      }
     ],
     "prompt_number": 15
    },
    {
     "cell_type": "code",
     "collapsed": false,
     "input": [],
     "language": "python",
     "metadata": {},
     "outputs": []
    }
   ],
   "metadata": {}
  }
 ]
}